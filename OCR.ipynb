{
 "cells": [
  {
   "cell_type": "code",
   "execution_count": 9,
   "metadata": {},
   "outputs": [],
   "source": [
    "from pydrive.auth import GoogleAuth\n",
    "from pydrive.drive import GoogleDrive\n",
    "import docx2txt"
   ]
  },
  {
   "cell_type": "markdown",
   "metadata": {},
   "source": [
    "#!pip install pydrive"
   ]
  },
  {
   "cell_type": "markdown",
   "metadata": {},
   "source": [
    "!pip install docx2txt"
   ]
  },
  {
   "cell_type": "code",
   "execution_count": 23,
   "metadata": {},
   "outputs": [],
   "source": [
    "def ocr(image):\n",
    "    gauth = GoogleAuth()\n",
    "\n",
    "# Try to load saved client credentials\n",
    "    gauth.LoadCredentialsFile(\"mycreds.txt\")\n",
    "    if gauth.credentials is None:\n",
    "    # Authenticate if they're not there\n",
    "\n",
    "    # This is what solved the issues:\n",
    "       gauth.GetFlow()\n",
    "       gauth.flow.params.update({'access_type': 'offline'})\n",
    "       gauth.flow.params.update({'approval_prompt': 'force'})\n",
    "\n",
    "       gauth.LocalWebserverAuth()\n",
    "\n",
    "    elif gauth.access_token_expired:\n",
    "\n",
    "    # Refresh them if expired\n",
    "\n",
    "        gauth.Refresh()\n",
    "    else:\n",
    "\n",
    "\n",
    "    # Initialize the saved creds\n",
    "\n",
    "        gauth.Authorize()\n",
    "\n",
    "# Save the current credentials to a file\n",
    "    gauth.SaveCredentialsFile(\"mycreds.txt\")  \n",
    "    drive = GoogleDrive(gauth)\n",
    "\n",
    "\n",
    "\n",
    "#Note that CreateFile() will create GoogleDriveFile instance but not actually upload a file to Google Drive.\n",
    "\n",
    "    file = drive.CreateFile({'title': 'conv.docx', \n",
    "                         'mimeType': 'application/msword'})\n",
    "\n",
    "# Read file and set it as a content of this instance.\n",
    "    file.SetContentFile(image)\n",
    "    file.Upload(param={'convert': True})\n",
    "    file.Upload() # Upload the file.\n",
    "    #print (file)\n",
    "    file_id=file['id']\n",
    "\n",
    "\n",
    "#downloading the doc file locally in a word format\n",
    "\n",
    "\n",
    "\n",
    "    download_file = drive.CreateFile({'id': file_id})\n",
    "    download_file.GetContentFile('converted.docx', mimetype='application/vnd.openxmlformats-officedocument.wordprocessingml.document') \n",
    "\n",
    "\n",
    "\n",
    "\n",
    "#destroying the temporary docx file \n",
    "\n",
    "    file.Trash()  # Move file to trash.\n",
    "    file.UnTrash()  # Move file out of trash.\n",
    "    file.Delete()  # Permanently delete the file.\n",
    "\n",
    "# Passing docx file to process function\n",
    "    text = docx2txt.process(\"converted.docx\")\n",
    "\n",
    "# Saving content inside docx file into output.txt file\n",
    "    with open(\"output.txt\", \"w\") as text_file:\n",
    "\t    print(text, file=text_file)\n",
    "    f1 = open(\"output.txt\", \"r\")\n",
    "    d1= f1.read()\n",
    "    return(d1)\n",
    "\n"
   ]
  }
 ],
 "metadata": {
  "kernelspec": {
   "display_name": "Python 3",
   "language": "python",
   "name": "python3"
  },
  "language_info": {
   "codemirror_mode": {
    "name": "ipython",
    "version": 3
   },
   "file_extension": ".py",
   "mimetype": "text/x-python",
   "name": "python",
   "nbconvert_exporter": "python",
   "pygments_lexer": "ipython3",
   "version": "3.8.5"
  }
 },
 "nbformat": 4,
 "nbformat_minor": 4
}
